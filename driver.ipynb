{
 "cells": [
  {
   "cell_type": "code",
   "execution_count": 1,
   "metadata": {},
   "outputs": [],
   "source": [
    "from pymongo import MongoClient\n",
    "import pymongo\n",
    "import datetime\n"
   ]
  },
  {
   "cell_type": "code",
   "execution_count": 2,
   "metadata": {},
   "outputs": [],
   "source": [
    "\n",
    "client = MongoClient('mongodb://localhost:27017/')\n",
    "db = client['uaot-recommender']\n"
   ]
  },
  {
   "cell_type": "code",
   "execution_count": 4,
   "metadata": {},
   "outputs": [
    {
     "data": {
      "text/plain": [
       "<pymongo.results.InsertOneResult at 0x7f7e1b194f80>"
      ]
     },
     "execution_count": 4,
     "metadata": {},
     "output_type": "execute_result"
    }
   ],
   "source": [
    "# watchlist = db['watchlist']\n",
    "\n",
    "# watchlist.insert_one({\n",
    "#     'username': 'prathmesh',\n",
    "#     'watchlist': [\n",
    "#         {\n",
    "#             'name': 'ADANIPOWER',\n",
    "#             'interval': 1\n",
    "#         }\n",
    "#     ]\n",
    "# })"
   ]
  },
  {
   "cell_type": "code",
   "execution_count": 5,
   "metadata": {},
   "outputs": [],
   "source": [
    "# watchlist.drop()"
   ]
  },
  {
   "cell_type": "code",
   "execution_count": 5,
   "metadata": {},
   "outputs": [],
   "source": [
    "_watchlist = watchlist.find_one({'username': 'prathmesh'})"
   ]
  },
  {
   "cell_type": "code",
   "execution_count": 6,
   "metadata": {},
   "outputs": [
    {
     "data": {
      "text/plain": [
       "{'_id': ObjectId('62078c964e45ba6f62f88472'),\n",
       " 'username': 'prathmesh',\n",
       " 'watchlist': [{'name': 'ADANIPOWER', 'interval': 1}]}"
      ]
     },
     "execution_count": 6,
     "metadata": {},
     "output_type": "execute_result"
    }
   ],
   "source": [
    "_watchlist"
   ]
  },
  {
   "cell_type": "code",
   "execution_count": 13,
   "metadata": {},
   "outputs": [
    {
     "data": {
      "text/plain": [
       "<pymongo.results.InsertOneResult at 0x7f7e1b167ec0>"
      ]
     },
     "execution_count": 13,
     "metadata": {},
     "output_type": "execute_result"
    }
   ],
   "source": [
    "recommendations = db['recommendations']\n",
    "\n",
    "recommendations.insert_one({\n",
    "    'stock': 'ADANIPOWER'.lower(),\n",
    "    'time': datetime.datetime.now(),\n",
    "    'action': 'sell',\n",
    "    'price': 128,\n",
    "    'interval': 1\n",
    "})"
   ]
  },
  {
   "cell_type": "code",
   "execution_count": 16,
   "metadata": {},
   "outputs": [
    {
     "data": {
      "text/plain": [
       "{'_id': ObjectId('62078cb54e45ba6f62f88474'),\n",
       " 'stock': 'adanipower',\n",
       " 'time': datetime.datetime(2022, 2, 12, 16, 2, 21, 942000),\n",
       " 'action': 'buy',\n",
       " 'price': 126,\n",
       " 'interval': 1}"
      ]
     },
     "execution_count": 16,
     "metadata": {},
     "output_type": "execute_result"
    }
   ],
   "source": [
    "recommendations.find_one({'stock': 'ADANIPOWER'.lower(), 'interval': 1})"
   ]
  },
  {
   "cell_type": "code",
   "execution_count": 8,
   "metadata": {},
   "outputs": [],
   "source": [
    "recommendations.drop()"
   ]
  },
  {
   "cell_type": "code",
   "execution_count": null,
   "metadata": {},
   "outputs": [],
   "source": []
  }
 ],
 "metadata": {
  "interpreter": {
   "hash": "e32c0c81f35a81c1bd6108c89e6c323eb0b4aa5d0074d9b5434867b98a14d451"
  },
  "kernelspec": {
   "display_name": "Python 3.9.7 ('uaot-2')",
   "language": "python",
   "name": "python3"
  },
  "language_info": {
   "codemirror_mode": {
    "name": "ipython",
    "version": 3
   },
   "file_extension": ".py",
   "mimetype": "text/x-python",
   "name": "python",
   "nbconvert_exporter": "python",
   "pygments_lexer": "ipython3",
   "version": "3.9.7"
  },
  "orig_nbformat": 4
 },
 "nbformat": 4,
 "nbformat_minor": 2
}
