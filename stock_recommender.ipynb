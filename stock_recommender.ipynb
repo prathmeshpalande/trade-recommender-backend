{
 "cells": [
  {
   "cell_type": "code",
   "execution_count": 7,
   "metadata": {},
   "outputs": [
    {
     "name": "stdout",
     "output_type": "stream",
     "text": [
      "Requirement already satisfied: fastapi[all] in /home/prathmesh/miniconda3/envs/uaot-2/lib/python3.9/site-packages (0.73.0)\n",
      "Requirement already satisfied: uvicorn[standard] in /home/prathmesh/miniconda3/envs/uaot-2/lib/python3.9/site-packages (0.15.0)\n",
      "Collecting wait4it\n",
      "  Downloading wait4it-0.2.1-py3-none-any.whl (4.8 kB)\n",
      "Requirement already satisfied: starlette==0.17.1 in /home/prathmesh/miniconda3/envs/uaot-2/lib/python3.9/site-packages (from fastapi[all]) (0.17.1)\n",
      "Requirement already satisfied: pydantic!=1.7,!=1.7.1,!=1.7.2,!=1.7.3,!=1.8,!=1.8.1,<2.0.0,>=1.6.2 in /home/prathmesh/miniconda3/envs/uaot-2/lib/python3.9/site-packages (from fastapi[all]) (1.9.0)\n",
      "Requirement already satisfied: requests<3.0.0,>=2.24.0 in /home/prathmesh/miniconda3/envs/uaot-2/lib/python3.9/site-packages (from fastapi[all]) (2.27.1)\n",
      "Requirement already satisfied: itsdangerous<3.0.0,>=1.1.0 in /home/prathmesh/miniconda3/envs/uaot-2/lib/python3.9/site-packages (from fastapi[all]) (2.0.1)\n",
      "Requirement already satisfied: python-multipart<0.0.6,>=0.0.5 in /home/prathmesh/miniconda3/envs/uaot-2/lib/python3.9/site-packages (from fastapi[all]) (0.0.5)\n",
      "Requirement already satisfied: pyyaml<6.0.0,>=5.3.1 in /home/prathmesh/miniconda3/envs/uaot-2/lib/python3.9/site-packages (from fastapi[all]) (5.4.1)\n",
      "Requirement already satisfied: email_validator<2.0.0,>=1.1.1 in /home/prathmesh/miniconda3/envs/uaot-2/lib/python3.9/site-packages (from fastapi[all]) (1.1.3)\n",
      "Requirement already satisfied: jinja2<4.0.0,>=2.11.2 in /home/prathmesh/miniconda3/envs/uaot-2/lib/python3.9/site-packages (from fastapi[all]) (3.0.3)\n",
      "Requirement already satisfied: orjson<4.0.0,>=3.2.1 in /home/prathmesh/miniconda3/envs/uaot-2/lib/python3.9/site-packages (from fastapi[all]) (3.6.6)\n",
      "Requirement already satisfied: ujson<5.0.0,>=4.0.1 in /home/prathmesh/miniconda3/envs/uaot-2/lib/python3.9/site-packages (from fastapi[all]) (4.3.0)\n",
      "Requirement already satisfied: anyio<4,>=3.0.0 in /home/prathmesh/miniconda3/envs/uaot-2/lib/python3.9/site-packages (from starlette==0.17.1->fastapi[all]) (3.5.0)\n",
      "Requirement already satisfied: h11>=0.8 in /home/prathmesh/miniconda3/envs/uaot-2/lib/python3.9/site-packages (from uvicorn[standard]) (0.13.0)\n",
      "Requirement already satisfied: click>=7.0 in /home/prathmesh/miniconda3/envs/uaot-2/lib/python3.9/site-packages (from uvicorn[standard]) (8.0.3)\n",
      "Requirement already satisfied: asgiref>=3.4.0 in /home/prathmesh/miniconda3/envs/uaot-2/lib/python3.9/site-packages (from uvicorn[standard]) (3.5.0)\n",
      "Requirement already satisfied: watchgod>=0.6 in /home/prathmesh/miniconda3/envs/uaot-2/lib/python3.9/site-packages (from uvicorn[standard]) (0.7)\n",
      "Requirement already satisfied: uvloop!=0.15.0,!=0.15.1,>=0.14.0 in /home/prathmesh/miniconda3/envs/uaot-2/lib/python3.9/site-packages (from uvicorn[standard]) (0.16.0)\n",
      "Requirement already satisfied: python-dotenv>=0.13 in /home/prathmesh/miniconda3/envs/uaot-2/lib/python3.9/site-packages (from uvicorn[standard]) (0.19.2)\n",
      "Requirement already satisfied: httptools==0.2.* in /home/prathmesh/miniconda3/envs/uaot-2/lib/python3.9/site-packages (from uvicorn[standard]) (0.2.0)\n",
      "Requirement already satisfied: websockets>=9.1 in /home/prathmesh/miniconda3/envs/uaot-2/lib/python3.9/site-packages (from uvicorn[standard]) (10.1)\n",
      "Requirement already satisfied: idna>=2.8 in /home/prathmesh/miniconda3/envs/uaot-2/lib/python3.9/site-packages (from anyio<4,>=3.0.0->starlette==0.17.1->fastapi[all]) (3.3)\n",
      "Requirement already satisfied: sniffio>=1.1 in /home/prathmesh/miniconda3/envs/uaot-2/lib/python3.9/site-packages (from anyio<4,>=3.0.0->starlette==0.17.1->fastapi[all]) (1.2.0)\n",
      "Requirement already satisfied: dnspython>=1.15.0 in /home/prathmesh/miniconda3/envs/uaot-2/lib/python3.9/site-packages (from email_validator<2.0.0,>=1.1.1->fastapi[all]) (2.2.0)\n",
      "Requirement already satisfied: MarkupSafe>=2.0 in /home/prathmesh/miniconda3/envs/uaot-2/lib/python3.9/site-packages (from jinja2<4.0.0,>=2.11.2->fastapi[all]) (2.0.1)\n",
      "Requirement already satisfied: typing-extensions>=3.7.4.3 in /home/prathmesh/miniconda3/envs/uaot-2/lib/python3.9/site-packages (from pydantic!=1.7,!=1.7.1,!=1.7.2,!=1.7.3,!=1.8,!=1.8.1,<2.0.0,>=1.6.2->fastapi[all]) (4.0.1)\n",
      "Requirement already satisfied: six>=1.4.0 in /home/prathmesh/miniconda3/envs/uaot-2/lib/python3.9/site-packages (from python-multipart<0.0.6,>=0.0.5->fastapi[all]) (1.16.0)\n",
      "Requirement already satisfied: certifi>=2017.4.17 in /home/prathmesh/miniconda3/envs/uaot-2/lib/python3.9/site-packages (from requests<3.0.0,>=2.24.0->fastapi[all]) (2021.10.8)\n",
      "Requirement already satisfied: charset-normalizer~=2.0.0 in /home/prathmesh/miniconda3/envs/uaot-2/lib/python3.9/site-packages (from requests<3.0.0,>=2.24.0->fastapi[all]) (2.0.11)\n",
      "Requirement already satisfied: urllib3<1.27,>=1.21.1 in /home/prathmesh/miniconda3/envs/uaot-2/lib/python3.9/site-packages (from requests<3.0.0,>=2.24.0->fastapi[all]) (1.26.8)\n",
      "Installing collected packages: wait4it\n",
      "Successfully installed wait4it-0.2.1\n"
     ]
    }
   ],
   "source": [
    "! pip install fastapi[all] uvicorn[standard] wait4it"
   ]
  },
  {
   "cell_type": "code",
   "execution_count": 1,
   "metadata": {},
   "outputs": [],
   "source": [
    "from fastapi import FastAPI\n",
    "import uvicorn\n",
    "\n",
    "from pymongo import MongoClient\n",
    "import pymongo"
   ]
  },
  {
   "cell_type": "code",
   "execution_count": 2,
   "metadata": {},
   "outputs": [],
   "source": [
    "\n",
    "app = FastAPI()\n",
    "\n",
    "def run():\n",
    "    uvicorn.run(app)"
   ]
  },
  {
   "cell_type": "code",
   "execution_count": 3,
   "metadata": {},
   "outputs": [],
   "source": [
    "# Code in this cell is just for (re)starting the API on a Process, and other compatibility stuff with Jupyter cells.\n",
    "# Just ignore it!\n",
    "\n",
    "from multiprocessing import Process\n",
    "from wait4it import wait_for\n",
    "\n",
    "_api_process = None\n",
    "\n",
    "def start_api():\n",
    "    \"\"\"Stop the API if running; Start the API; Wait until API (port) is available (reachable)\"\"\"\n",
    "    global _api_process\n",
    "    if _api_process:\n",
    "        _api_process.terminate()\n",
    "        _api_process.join()\n",
    "    \n",
    "    _api_process = Process(target=run, daemon=True)\n",
    "    _api_process.start()\n",
    "    wait_for(port=8000)\n",
    "\n",
    "def delete_route(method: str, path: str):\n",
    "    \"\"\"Delete the given route from the API. This must be called on cells that re-define a route\"\"\"\n",
    "    [app.routes.remove(route) for route in app.routes if method in route.methods and route.path == path]"
   ]
  },
  {
   "cell_type": "code",
   "execution_count": 4,
   "metadata": {},
   "outputs": [],
   "source": [
    "@app.get(\"/\")\n",
    "def get_root():\n",
    "    return {\"Hello\": \"World\"}\n",
    "\n",
    "@app.get('/instruments')\n",
    "def get_instruments():\n",
    "    global instruments_collection\n",
    "    instruments = []\n",
    "    for instrument in instruments_collection.find():\n",
    "        del instrument['_id']\n",
    "        instruments.append(instrument)\n",
    "    return {'instruments': instruments}\n",
    "    "
   ]
  },
  {
   "cell_type": "code",
   "execution_count": 5,
   "metadata": {},
   "outputs": [],
   "source": [
    "client = MongoClient('mongodb://localhost:27017/')\n",
    "db = client['kiteconnect']\n",
    "stocks_actions_recommendations = db['stocks_actions_recommendations']\n",
    "instruments_collection = db['instruments']"
   ]
  },
  {
   "cell_type": "code",
   "execution_count": 6,
   "metadata": {},
   "outputs": [
    {
     "name": "stdout",
     "output_type": "stream",
     "text": [
      "[sudo] password for prathmesh: \n"
     ]
    }
   ],
   "source": [
    "# ! sudo lsof -t -i tcp:8000 | xargs kill -9"
   ]
  },
  {
   "cell_type": "code",
   "execution_count": 7,
   "metadata": {},
   "outputs": [
    {
     "name": "stderr",
     "output_type": "stream",
     "text": [
      "INFO:     Started server process [3703]\n",
      "INFO:     Waiting for application startup.\n",
      "INFO:     Application startup complete.\n",
      "INFO:     Uvicorn running on http://127.0.0.1:8000 (Press CTRL+C to quit)\n",
      "/home/prathmesh/miniconda3/envs/uaot-2/lib/python3.9/site-packages/pymongo/topology.py:162: UserWarning: MongoClient opened before fork. Create MongoClient only after forking. See PyMongo's documentation for details: https://pymongo.readthedocs.io/en/stable/faq.html#is-pymongo-fork-safe\n",
      "  warnings.warn(\n"
     ]
    },
    {
     "name": "stdout",
     "output_type": "stream",
     "text": [
      "INFO:     127.0.0.1:57812 - \"GET /instruments HTTP/1.1\" 500 Internal Server Error\n"
     ]
    },
    {
     "name": "stderr",
     "output_type": "stream",
     "text": [
      "ERROR:    Exception in ASGI application\n",
      "pymongo.errors.AutoReconnect: connection pool paused\n",
      "\n",
      "The above exception was the direct cause of the following exception:\n",
      "\n",
      "Traceback (most recent call last):\n",
      "  File \"/home/prathmesh/miniconda3/envs/uaot-2/lib/python3.9/site-packages/uvicorn/protocols/http/httptools_impl.py\", line 375, in run_asgi\n",
      "    result = await app(self.scope, self.receive, self.send)\n",
      "  File \"/home/prathmesh/miniconda3/envs/uaot-2/lib/python3.9/site-packages/uvicorn/middleware/proxy_headers.py\", line 75, in __call__\n",
      "    return await self.app(scope, receive, send)\n",
      "  File \"/home/prathmesh/miniconda3/envs/uaot-2/lib/python3.9/site-packages/fastapi/applications.py\", line 212, in __call__\n",
      "    await super().__call__(scope, receive, send)\n",
      "  File \"/home/prathmesh/miniconda3/envs/uaot-2/lib/python3.9/site-packages/starlette/applications.py\", line 112, in __call__\n",
      "    await self.middleware_stack(scope, receive, send)\n",
      "  File \"/home/prathmesh/miniconda3/envs/uaot-2/lib/python3.9/site-packages/starlette/middleware/errors.py\", line 181, in __call__\n",
      "    raise exc\n",
      "  File \"/home/prathmesh/miniconda3/envs/uaot-2/lib/python3.9/site-packages/starlette/middleware/errors.py\", line 159, in __call__\n",
      "    await self.app(scope, receive, _send)\n",
      "  File \"/home/prathmesh/miniconda3/envs/uaot-2/lib/python3.9/site-packages/starlette/exceptions.py\", line 82, in __call__\n",
      "    raise exc\n",
      "  File \"/home/prathmesh/miniconda3/envs/uaot-2/lib/python3.9/site-packages/starlette/exceptions.py\", line 71, in __call__\n",
      "    await self.app(scope, receive, sender)\n",
      "  File \"/home/prathmesh/miniconda3/envs/uaot-2/lib/python3.9/site-packages/starlette/routing.py\", line 656, in __call__\n",
      "    await route.handle(scope, receive, send)\n",
      "  File \"/home/prathmesh/miniconda3/envs/uaot-2/lib/python3.9/site-packages/starlette/routing.py\", line 259, in handle\n",
      "    await self.app(scope, receive, send)\n",
      "  File \"/home/prathmesh/miniconda3/envs/uaot-2/lib/python3.9/site-packages/starlette/routing.py\", line 61, in app\n",
      "    response = await func(request)\n",
      "  File \"/home/prathmesh/miniconda3/envs/uaot-2/lib/python3.9/site-packages/fastapi/routing.py\", line 226, in app\n",
      "    raw_response = await run_endpoint_function(\n",
      "  File \"/home/prathmesh/miniconda3/envs/uaot-2/lib/python3.9/site-packages/fastapi/routing.py\", line 161, in run_endpoint_function\n",
      "    return await run_in_threadpool(dependant.call, **values)\n",
      "  File \"/home/prathmesh/miniconda3/envs/uaot-2/lib/python3.9/site-packages/starlette/concurrency.py\", line 39, in run_in_threadpool\n",
      "    return await anyio.to_thread.run_sync(func, *args)\n",
      "  File \"/home/prathmesh/miniconda3/envs/uaot-2/lib/python3.9/site-packages/anyio/to_thread.py\", line 28, in run_sync\n",
      "    return await get_asynclib().run_sync_in_worker_thread(func, *args, cancellable=cancellable,\n",
      "  File \"/home/prathmesh/miniconda3/envs/uaot-2/lib/python3.9/site-packages/anyio/_backends/_asyncio.py\", line 818, in run_sync_in_worker_thread\n",
      "    return await future\n",
      "  File \"/home/prathmesh/miniconda3/envs/uaot-2/lib/python3.9/site-packages/anyio/_backends/_asyncio.py\", line 754, in run\n",
      "    result = context.run(func, *args)\n",
      "  File \"/tmp/ipykernel_3513/1478694360.py\", line 9, in get_instruments\n",
      "    for instrument in instruments_collection.find():\n",
      "  File \"/home/prathmesh/miniconda3/envs/uaot-2/lib/python3.9/site-packages/pymongo/cursor.py\", line 1159, in next\n",
      "    if len(self.__data) or self._refresh():\n",
      "  File \"/home/prathmesh/miniconda3/envs/uaot-2/lib/python3.9/site-packages/pymongo/cursor.py\", line 1080, in _refresh\n",
      "    self.__send_message(q)\n",
      "  File \"/home/prathmesh/miniconda3/envs/uaot-2/lib/python3.9/site-packages/pymongo/cursor.py\", line 971, in __send_message\n",
      "    response = client._run_operation(\n",
      "  File \"/home/prathmesh/miniconda3/envs/uaot-2/lib/python3.9/site-packages/pymongo/mongo_client.py\", line 1215, in _run_operation\n",
      "    return self._retryable_read(\n",
      "  File \"/home/prathmesh/miniconda3/envs/uaot-2/lib/python3.9/site-packages/pymongo/mongo_client.py\", line 1307, in _retryable_read\n",
      "    with self._secondaryok_for_server(read_pref, server, session) as (\n",
      "  File \"/home/prathmesh/miniconda3/envs/uaot-2/lib/python3.9/contextlib.py\", line 119, in __enter__\n",
      "    return next(self.gen)\n",
      "  File \"/home/prathmesh/miniconda3/envs/uaot-2/lib/python3.9/site-packages/pymongo/mongo_client.py\", line 1162, in _secondaryok_for_server\n",
      "    with self._get_socket(server, session) as sock_info:\n",
      "  File \"/home/prathmesh/miniconda3/envs/uaot-2/lib/python3.9/contextlib.py\", line 119, in __enter__\n",
      "    return next(self.gen)\n",
      "  File \"/home/prathmesh/miniconda3/envs/uaot-2/lib/python3.9/site-packages/pymongo/mongo_client.py\", line 1099, in _get_socket\n",
      "    with server.get_socket(\n",
      "  File \"/home/prathmesh/miniconda3/envs/uaot-2/lib/python3.9/contextlib.py\", line 119, in __enter__\n",
      "    return next(self.gen)\n",
      "  File \"/home/prathmesh/miniconda3/envs/uaot-2/lib/python3.9/site-packages/pymongo/pool.py\", line 1371, in get_socket\n",
      "    sock_info = self._get_socket(all_credentials)\n",
      "  File \"/home/prathmesh/miniconda3/envs/uaot-2/lib/python3.9/site-packages/pymongo/pool.py\", line 1436, in _get_socket\n",
      "    self._raise_if_not_ready(emit_event=True)\n",
      "  File \"/home/prathmesh/miniconda3/envs/uaot-2/lib/python3.9/site-packages/pymongo/pool.py\", line 1407, in _raise_if_not_ready\n",
      "    _raise_connection_failure(\n",
      "  File \"/home/prathmesh/miniconda3/envs/uaot-2/lib/python3.9/site-packages/pymongo/pool.py\", line 250, in _raise_connection_failure\n",
      "    raise AutoReconnect(msg) from error\n",
      "pymongo.errors.AutoReconnect: localhost:27017: connection pool paused\n"
     ]
    }
   ],
   "source": [
    "start_api()"
   ]
  },
  {
   "cell_type": "code",
   "execution_count": null,
   "metadata": {},
   "outputs": [],
   "source": []
  }
 ],
 "metadata": {
  "interpreter": {
   "hash": "e32c0c81f35a81c1bd6108c89e6c323eb0b4aa5d0074d9b5434867b98a14d451"
  },
  "kernelspec": {
   "display_name": "Python 3.9.7 ('uaot-2')",
   "language": "python",
   "name": "python3"
  },
  "language_info": {
   "codemirror_mode": {
    "name": "ipython",
    "version": 3
   },
   "file_extension": ".py",
   "mimetype": "text/x-python",
   "name": "python",
   "nbconvert_exporter": "python",
   "pygments_lexer": "ipython3",
   "version": "3.9.7"
  },
  "orig_nbformat": 4
 },
 "nbformat": 4,
 "nbformat_minor": 2
}
